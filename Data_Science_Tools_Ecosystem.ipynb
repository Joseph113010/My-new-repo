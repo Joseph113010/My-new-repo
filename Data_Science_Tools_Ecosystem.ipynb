{
 "cells": [
  {
   "cell_type": "markdown",
   "id": "a4e0592d-1c9c-4995-b697-50241945fff0",
   "metadata": {},
   "source": [
    "# Data Science Tools and Ecosystem\n"
   ]
  },
  {
   "cell_type": "markdown",
   "id": "b4472235-0120-48ab-be4f-561f41fd1cb5",
   "metadata": {},
   "source": [
    " In this notebook, Data Science Tools and Ecosystem are summarized.\n",
    " **Objectives**\n",
    " - List popular tools for Data Science\n",
    " - Create tables using markdown\n",
    " - Libraries for Data Science\n",
    " - Simple coding arithmetic"
   ]
  },
  {
   "cell_type": "markdown",
   "id": "ceb5cf19-15aa-4d33-b993-a6b7806d588d",
   "metadata": {},
   "source": [
    " Some of the popular languages Data Scienctists use are:\n",
    " 1. SQL\n",
    " 2. Python\n",
    " 3. R\n",
    " 4. Julia\n",
    " 5. Java"
   ]
  },
  {
   "cell_type": "markdown",
   "id": "0db0dc49-1482-4e62-a6f2-146532af286f",
   "metadata": {},
   "source": [
    " Some of the commonly used libraries used by Data Scientists include:\n",
    "1. Pandas\n",
    "2. Numpy\n",
    "3. Matplotlib"
   ]
  },
  {
   "cell_type": "markdown",
   "id": "2c9fee73-8c6e-41cb-a0a1-9a4847d33cae",
   "metadata": {},
   "source": [
    " |Data Science Tools|\n",
    " |-------------------|\n",
    " |Jupyter Notebook|\n",
    " |RStudio|\n",
    " |Visual Studio Code|"
   ]
  },
  {
   "cell_type": "markdown",
   "id": "d526a439-f23f-4425-97d2-a5c28813feae",
   "metadata": {},
   "source": [
    " ### Below are a few examples of evaluating arithmetic expressions in Python\n",
    " "
   ]
  },
  {
   "cell_type": "code",
   "execution_count": 1,
   "id": "89442088-fd67-4987-b04b-af9704eebdec",
   "metadata": {},
   "outputs": [
    {
     "data": {
      "text/plain": [
       "17"
      ]
     },
     "execution_count": 1,
     "metadata": {},
     "output_type": "execute_result"
    }
   ],
   "source": [
    " # This is a simple arithmetic to multiply and then add intergers\n",
    " (3*4)+5"
   ]
  },
  {
   "cell_type": "code",
   "execution_count": 5,
   "id": "d5ec1629-17c3-432c-84b6-9c4daa7ee39c",
   "metadata": {},
   "outputs": [
    {
     "ename": "IndentationError",
     "evalue": "unexpected indent (842141038.py, line 2)",
     "output_type": "error",
     "traceback": [
      "\u001b[0;36m  Cell \u001b[0;32mIn[5], line 2\u001b[0;36m\u001b[0m\n\u001b[0;31m    200/60\u001b[0m\n\u001b[0m    ^\u001b[0m\n\u001b[0;31mIndentationError\u001b[0m\u001b[0;31m:\u001b[0m unexpected indent\n"
     ]
    }
   ],
   "source": [
    " # This will convert 200 minutes to hours by dividing by 60\n",
    "   200/60"
   ]
  },
  {
   "cell_type": "markdown",
   "id": "a04303c4-7fff-4744-b64d-5a66d0273107",
   "metadata": {},
   "source": [
    " ## Author\n",
    " Joseph Mahubaba\n",
    " "
   ]
  }
 ],
 "metadata": {
  "kernelspec": {
   "display_name": "Python 3 (ipykernel)",
   "language": "python",
   "name": "python3"
  },
  "language_info": {
   "codemirror_mode": {
    "name": "ipython",
    "version": 3
   },
   "file_extension": ".py",
   "mimetype": "text/x-python",
   "name": "python",
   "nbconvert_exporter": "python",
   "pygments_lexer": "ipython3",
   "version": "3.12.8"
  }
 },
 "nbformat": 4,
 "nbformat_minor": 5
}
